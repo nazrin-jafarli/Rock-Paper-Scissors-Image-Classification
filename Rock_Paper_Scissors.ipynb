{
  "cells": [
    {
      "cell_type": "code",
      "execution_count": null,
      "metadata": {
        "colab": {
          "base_uri": "https://localhost:8080/"
        },
        "id": "KUhyCanWQWHJ",
        "outputId": "236382e2-2759-46f4-8804-390f8e7ad374"
      },
      "outputs": [
        {
          "output_type": "stream",
          "name": "stdout",
          "text": [
            "--2023-04-07 04:35:44--  https://dicodingacademy.blob.core.windows.net/picodiploma/ml_pemula_academy/rockpaperscissors.zip\n",
            "Resolving dicodingacademy.blob.core.windows.net (dicodingacademy.blob.core.windows.net)... 52.239.197.36\n",
            "Connecting to dicodingacademy.blob.core.windows.net (dicodingacademy.blob.core.windows.net)|52.239.197.36|:443... connected.\n",
            "HTTP request sent, awaiting response... 404 The specified resource does not exist.\n",
            "2023-04-07 04:35:45 ERROR 404: The specified resource does not exist..\n",
            "\n"
          ]
        }
      ],
      "source": [
        "# import datasets\n",
        "!wget --no-check-certificate \\\n",
        "  https://dicodingacademy.blob.core.windows.net/picodiploma/ml_pemula_academy/rockpaperscissors.zip \\\n",
        "  -O /tmp/rockpaperscissors.zip"
      ],
      "id": "KUhyCanWQWHJ"
    },
    {
      "cell_type": "code",
      "execution_count": null,
      "metadata": {
        "colab": {
          "base_uri": "https://localhost:8080/"
        },
        "id": "kge5h8SsQbCR",
        "outputId": "136e3c5f-8b93-4616-f4f7-f088d50f91a2"
      },
      "outputs": [
        {
          "output_type": "stream",
          "name": "stdout",
          "text": [
            "drive  README_rpc-cv-images.txt  rockpaperscissors.zip\truns\t     scissors\n",
            "paper  rock\t\t\t rps-cv-images\t\tsample_data\n"
          ]
        }
      ],
      "source": [
        "!ls"
      ],
      "id": "kge5h8SsQbCR"
    },
    {
      "cell_type": "code",
      "execution_count": null,
      "metadata": {
        "id": "5T9FK5SZQ__W"
      },
      "outputs": [],
      "source": [],
      "id": "5T9FK5SZQ__W"
    },
    {
      "cell_type": "code",
      "execution_count": 1,
      "metadata": {
        "colab": {
          "base_uri": "https://localhost:8080/"
        },
        "id": "aleVMe6kRBk4",
        "outputId": "cc453120-0672-4d28-98a2-6b57788921d5"
      },
      "outputs": [
        {
          "output_type": "stream",
          "name": "stdout",
          "text": [
            "Mounted at /content/drive\n"
          ]
        }
      ],
      "source": [
        "from google.colab import drive\n",
        "drive.mount('/content/drive')"
      ],
      "id": "aleVMe6kRBk4"
    },
    {
      "cell_type": "code",
      "execution_count": 2,
      "metadata": {
        "colab": {
          "base_uri": "https://localhost:8080/",
          "height": 91
        },
        "id": "wmmXFAHjUIC4",
        "outputId": "d1379266-bd66-433e-fef6-092cda32335d"
      },
      "outputs": [
        {
          "output_type": "display_data",
          "data": {
            "text/plain": [
              "<IPython.core.display.HTML object>"
            ],
            "text/html": [
              "\n",
              "     <input type=\"file\" id=\"files-ea9e6ab3-b768-41f3-b955-233465d9d406\" name=\"files[]\" multiple disabled\n",
              "        style=\"border:none\" />\n",
              "     <output id=\"result-ea9e6ab3-b768-41f3-b955-233465d9d406\">\n",
              "      Upload widget is only available when the cell has been executed in the\n",
              "      current browser session. Please rerun this cell to enable.\n",
              "      </output>\n",
              "      <script>// Copyright 2017 Google LLC\n",
              "//\n",
              "// Licensed under the Apache License, Version 2.0 (the \"License\");\n",
              "// you may not use this file except in compliance with the License.\n",
              "// You may obtain a copy of the License at\n",
              "//\n",
              "//      http://www.apache.org/licenses/LICENSE-2.0\n",
              "//\n",
              "// Unless required by applicable law or agreed to in writing, software\n",
              "// distributed under the License is distributed on an \"AS IS\" BASIS,\n",
              "// WITHOUT WARRANTIES OR CONDITIONS OF ANY KIND, either express or implied.\n",
              "// See the License for the specific language governing permissions and\n",
              "// limitations under the License.\n",
              "\n",
              "/**\n",
              " * @fileoverview Helpers for google.colab Python module.\n",
              " */\n",
              "(function(scope) {\n",
              "function span(text, styleAttributes = {}) {\n",
              "  const element = document.createElement('span');\n",
              "  element.textContent = text;\n",
              "  for (const key of Object.keys(styleAttributes)) {\n",
              "    element.style[key] = styleAttributes[key];\n",
              "  }\n",
              "  return element;\n",
              "}\n",
              "\n",
              "// Max number of bytes which will be uploaded at a time.\n",
              "const MAX_PAYLOAD_SIZE = 100 * 1024;\n",
              "\n",
              "function _uploadFiles(inputId, outputId) {\n",
              "  const steps = uploadFilesStep(inputId, outputId);\n",
              "  const outputElement = document.getElementById(outputId);\n",
              "  // Cache steps on the outputElement to make it available for the next call\n",
              "  // to uploadFilesContinue from Python.\n",
              "  outputElement.steps = steps;\n",
              "\n",
              "  return _uploadFilesContinue(outputId);\n",
              "}\n",
              "\n",
              "// This is roughly an async generator (not supported in the browser yet),\n",
              "// where there are multiple asynchronous steps and the Python side is going\n",
              "// to poll for completion of each step.\n",
              "// This uses a Promise to block the python side on completion of each step,\n",
              "// then passes the result of the previous step as the input to the next step.\n",
              "function _uploadFilesContinue(outputId) {\n",
              "  const outputElement = document.getElementById(outputId);\n",
              "  const steps = outputElement.steps;\n",
              "\n",
              "  const next = steps.next(outputElement.lastPromiseValue);\n",
              "  return Promise.resolve(next.value.promise).then((value) => {\n",
              "    // Cache the last promise value to make it available to the next\n",
              "    // step of the generator.\n",
              "    outputElement.lastPromiseValue = value;\n",
              "    return next.value.response;\n",
              "  });\n",
              "}\n",
              "\n",
              "/**\n",
              " * Generator function which is called between each async step of the upload\n",
              " * process.\n",
              " * @param {string} inputId Element ID of the input file picker element.\n",
              " * @param {string} outputId Element ID of the output display.\n",
              " * @return {!Iterable<!Object>} Iterable of next steps.\n",
              " */\n",
              "function* uploadFilesStep(inputId, outputId) {\n",
              "  const inputElement = document.getElementById(inputId);\n",
              "  inputElement.disabled = false;\n",
              "\n",
              "  const outputElement = document.getElementById(outputId);\n",
              "  outputElement.innerHTML = '';\n",
              "\n",
              "  const pickedPromise = new Promise((resolve) => {\n",
              "    inputElement.addEventListener('change', (e) => {\n",
              "      resolve(e.target.files);\n",
              "    });\n",
              "  });\n",
              "\n",
              "  const cancel = document.createElement('button');\n",
              "  inputElement.parentElement.appendChild(cancel);\n",
              "  cancel.textContent = 'Cancel upload';\n",
              "  const cancelPromise = new Promise((resolve) => {\n",
              "    cancel.onclick = () => {\n",
              "      resolve(null);\n",
              "    };\n",
              "  });\n",
              "\n",
              "  // Wait for the user to pick the files.\n",
              "  const files = yield {\n",
              "    promise: Promise.race([pickedPromise, cancelPromise]),\n",
              "    response: {\n",
              "      action: 'starting',\n",
              "    }\n",
              "  };\n",
              "\n",
              "  cancel.remove();\n",
              "\n",
              "  // Disable the input element since further picks are not allowed.\n",
              "  inputElement.disabled = true;\n",
              "\n",
              "  if (!files) {\n",
              "    return {\n",
              "      response: {\n",
              "        action: 'complete',\n",
              "      }\n",
              "    };\n",
              "  }\n",
              "\n",
              "  for (const file of files) {\n",
              "    const li = document.createElement('li');\n",
              "    li.append(span(file.name, {fontWeight: 'bold'}));\n",
              "    li.append(span(\n",
              "        `(${file.type || 'n/a'}) - ${file.size} bytes, ` +\n",
              "        `last modified: ${\n",
              "            file.lastModifiedDate ? file.lastModifiedDate.toLocaleDateString() :\n",
              "                                    'n/a'} - `));\n",
              "    const percent = span('0% done');\n",
              "    li.appendChild(percent);\n",
              "\n",
              "    outputElement.appendChild(li);\n",
              "\n",
              "    const fileDataPromise = new Promise((resolve) => {\n",
              "      const reader = new FileReader();\n",
              "      reader.onload = (e) => {\n",
              "        resolve(e.target.result);\n",
              "      };\n",
              "      reader.readAsArrayBuffer(file);\n",
              "    });\n",
              "    // Wait for the data to be ready.\n",
              "    let fileData = yield {\n",
              "      promise: fileDataPromise,\n",
              "      response: {\n",
              "        action: 'continue',\n",
              "      }\n",
              "    };\n",
              "\n",
              "    // Use a chunked sending to avoid message size limits. See b/62115660.\n",
              "    let position = 0;\n",
              "    do {\n",
              "      const length = Math.min(fileData.byteLength - position, MAX_PAYLOAD_SIZE);\n",
              "      const chunk = new Uint8Array(fileData, position, length);\n",
              "      position += length;\n",
              "\n",
              "      const base64 = btoa(String.fromCharCode.apply(null, chunk));\n",
              "      yield {\n",
              "        response: {\n",
              "          action: 'append',\n",
              "          file: file.name,\n",
              "          data: base64,\n",
              "        },\n",
              "      };\n",
              "\n",
              "      let percentDone = fileData.byteLength === 0 ?\n",
              "          100 :\n",
              "          Math.round((position / fileData.byteLength) * 100);\n",
              "      percent.textContent = `${percentDone}% done`;\n",
              "\n",
              "    } while (position < fileData.byteLength);\n",
              "  }\n",
              "\n",
              "  // All done.\n",
              "  yield {\n",
              "    response: {\n",
              "      action: 'complete',\n",
              "    }\n",
              "  };\n",
              "}\n",
              "\n",
              "scope.google = scope.google || {};\n",
              "scope.google.colab = scope.google.colab || {};\n",
              "scope.google.colab._files = {\n",
              "  _uploadFiles,\n",
              "  _uploadFilesContinue,\n",
              "};\n",
              "})(self);\n",
              "</script> "
            ]
          },
          "metadata": {}
        },
        {
          "output_type": "stream",
          "name": "stdout",
          "text": [
            "Saving kaggle.json to kaggle.json\n",
            "User uploaded file \"kaggle.json\" with length 64 bytes\n"
          ]
        }
      ],
      "source": [
        "from google.colab import files\n",
        "\n",
        "uploaded = files.upload()\n",
        "\n",
        "for fn in uploaded.keys():\n",
        "  print('User uploaded file \"{name}\" with length {length} bytes'.format(\n",
        "      name=fn, length=len(uploaded[fn])))\n",
        "  \n",
        "\n",
        "# Then move kaggle.json into the folder where the API expects to find it.\n",
        "!mkdir -p ~/.kaggle/ && mv kaggle.json ~/.kaggle/ && chmod 600 ~/.kaggle/kaggle.json"
      ],
      "id": "wmmXFAHjUIC4"
    },
    {
      "cell_type": "code",
      "execution_count": 3,
      "metadata": {
        "colab": {
          "base_uri": "https://localhost:8080/"
        },
        "id": "Y7qMjk3QUT3e",
        "outputId": "a3f0c6e5-8d37-4e4b-f907-d26ea311f9d2"
      },
      "outputs": [
        {
          "output_type": "stream",
          "name": "stdout",
          "text": [
            "Downloading rockpaperscissors.zip to /content\n",
            " 96% 294M/306M [00:02<00:00, 128MB/s]\n",
            "100% 306M/306M [00:02<00:00, 136MB/s]\n"
          ]
        }
      ],
      "source": [
        "# !kaggle datasets download -d karakaggle/kaggle-cat-vs-dog-dataset\n",
        "!kaggle datasets download -d drgfreeman/rockpaperscissors\n"
      ],
      "id": "Y7qMjk3QUT3e"
    },
    {
      "cell_type": "code",
      "execution_count": 4,
      "metadata": {
        "colab": {
          "base_uri": "https://localhost:8080/"
        },
        "id": "WAOg9IJgUoIH",
        "outputId": "5dbe999c-165b-4c87-96a6-74f9d515c9c8"
      },
      "outputs": [
        {
          "output_type": "stream",
          "name": "stdout",
          "text": [
            "Done\n"
          ]
        }
      ],
      "source": [
        "from zipfile import ZipFile\n",
        "file_name = \"/content/rockpaperscissors.zip\"\n",
        "with ZipFile(file_name,'r') as zip:\n",
        "  zip.extractall()\n",
        "  print('Done')\n",
        "\n",
        "  "
      ],
      "id": "WAOg9IJgUoIH"
    },
    {
      "cell_type": "code",
      "execution_count": null,
      "metadata": {
        "id": "PxyNZm_iYWqm"
      },
      "outputs": [],
      "source": [
        "!ls"
      ],
      "id": "PxyNZm_iYWqm"
    },
    {
      "cell_type": "code",
      "execution_count": 60,
      "metadata": {
        "colab": {
          "base_uri": "https://localhost:8080/"
        },
        "id": "jftr7-ihUxYv",
        "outputId": "b41ca7a4-b6d0-4339-d2e8-57061268fae9"
      },
      "outputs": [
        {
          "output_type": "stream",
          "name": "stdout",
          "text": [
            "check if dataset is balanced: \n",
            "712 726 750\n",
            "2188\n",
            "2188\n",
            "['paper', 'scissors', 'rock']\n"
          ]
        },
        {
          "output_type": "execute_result",
          "data": {
            "text/plain": [
              "(tensor([[[-2.1179, -2.1179, -2.1179,  ..., -2.1179, -2.1179, -2.1179],\n",
              "          [-2.1179, -2.1179, -2.1179,  ..., -2.1179, -2.1179, -2.1179],\n",
              "          [-2.1179, -2.1179, -2.1179,  ..., -2.1179, -2.1179, -2.1179],\n",
              "          ...,\n",
              "          [-2.1179, -2.1179, -2.1179,  ..., -2.1179, -2.1179, -2.1179],\n",
              "          [-2.1179, -2.1179, -2.1179,  ..., -2.1179, -2.1179, -2.1179],\n",
              "          [-2.1179, -2.1179, -2.1179,  ..., -2.1179, -2.1179, -2.1179]],\n",
              " \n",
              "         [[-2.0357, -2.0357, -2.0357,  ..., -2.0357, -2.0357, -2.0357],\n",
              "          [-2.0357, -2.0357, -2.0357,  ..., -2.0357, -2.0357, -2.0357],\n",
              "          [-2.0357, -2.0357, -2.0357,  ..., -2.0357, -2.0357, -2.0357],\n",
              "          ...,\n",
              "          [-2.0357, -2.0357, -2.0357,  ..., -2.0357, -2.0357, -2.0357],\n",
              "          [-2.0357, -2.0357, -2.0357,  ..., -2.0357, -2.0357, -2.0357],\n",
              "          [-2.0357, -2.0357, -2.0357,  ..., -2.0357, -2.0357, -2.0357]],\n",
              " \n",
              "         [[-1.8044, -1.8044, -1.8044,  ..., -1.8044, -1.8044, -1.8044],\n",
              "          [-1.8044, -1.8044, -1.8044,  ..., -1.8044, -1.8044, -1.8044],\n",
              "          [-1.8044, -1.8044, -1.8044,  ..., -1.8044, -1.8044, -1.8044],\n",
              "          ...,\n",
              "          [-1.8044, -1.8044, -1.8044,  ..., -1.8044, -1.8044, -1.8044],\n",
              "          [-1.8044, -1.8044, -1.8044,  ..., -1.8044, -1.8044, -1.8044],\n",
              "          [-1.8044, -1.8044, -1.8044,  ..., -1.8044, -1.8044, -1.8044]]]),\n",
              " array([0., 1., 0.]))"
            ]
          },
          "metadata": {},
          "execution_count": 60
        }
      ],
      "source": [
        "import torch\n",
        "import numpy as np\n",
        "import torch.nn\n",
        "from PIL import Image\n",
        "from torchvision import transforms\n",
        "import os\n",
        "from sklearn.preprocessing import LabelEncoder\n",
        "import random\n",
        "from torch.utils.data import Dataset\n",
        "from zipfile import ZipFile\n",
        "class custom_dataset(Dataset):\n",
        "\n",
        "    # initialize your dataset class\n",
        "    def __init__(self, mode=\"train\", tr=1, image_path=\"rps-cv-images\", label_path=\"rps-cv-images\"):\n",
        "        self.mode = mode\n",
        "        self.image_path = image_path\n",
        "        self.label_path = label_path\n",
        "        self.total_images = []\n",
        "        self.labels = []\n",
        "        self.papers = []\n",
        "        self.rocks = []\n",
        "        self.scissorss = []\n",
        "        self.tr = tr\n",
        "        self.unique_labels = []\n",
        "        \n",
        "\n",
        "        for i in os.listdir(image_path):\n",
        "            class_balance = []\n",
        "            self.unique_labels.append(i)\n",
        "            for j in os.listdir(image_path+\"/\" + i):\n",
        "                class_balance.append(image_path+\"/\"+i+\"/\"+j)\n",
        "\n",
        "                self.labels.append(i)\n",
        "                self.total_images.append(i+'/'+j)\n",
        "            if str.lower(i) == 'paper':\n",
        "                self.papers = class_balance\n",
        "            elif str.lower(i) == 'rock':\n",
        "                self.rocks = class_balance\n",
        "            elif str.lower(i) == 'scissors':\n",
        "                self.scissorss = class_balance\n",
        "        print(\"check if dataset is balanced: \")\n",
        "        print(len(self.papers), len(self.rocks),len(self.scissorss))\n",
        "        print(len(self.total_images))\n",
        "        print(len(self.labels))\n",
        "        self.unique_labels.remove('.ipynb_checkpoints')\n",
        "        print(self.unique_labels)\n",
        "        \n",
        "        \n",
        "        # # encode the labels as integers\n",
        "        # self.label_encoder = LabelEncoder()\n",
        "        # self.labels = self.label_encoder.fit_transform(self.labels)\n",
        "        \n",
        "        np.random.seed(42)\n",
        "\n",
        "        # Combine the image paths and labels into arrays\n",
        "        total_images = np.array(self.total_images)\n",
        "        labels = np.array(self.labels)\n",
        "        # print(type(total_images))\n",
        "        # print(type(labels))\n",
        "        # Generate a random permutation of the indices\n",
        "        \n",
        "        indices = np.random.permutation(len(total_images))\n",
        "\n",
        "        # Shuffle the images and labels arrays using the permuted indices\n",
        "        shuffled_images = total_images[indices]\n",
        "        shuffled_labels = labels[indices]\n",
        "        # Shuffle the images and labels using a random state\n",
        "        #distribute to val train and test\n",
        "\n",
        "\n",
        "        train_size = 1750\n",
        "        val_size = 219\n",
        "        test_size = 219\n",
        "\n",
        "\n",
        "        # Split the dataset into training (22,000), testing (2,000), and validation (1,000) sets\n",
        "        train_images = shuffled_images[:train_size]\n",
        "        train_labels=shuffled_labels[:train_size]\n",
        "\n",
        "        test_images = shuffled_images[train_size:train_size+test_size]\n",
        "        test_labels = shuffled_labels[train_size:train_size+test_size]\n",
        "\n",
        "        val_images = shuffled_images[train_size+test_size:]\n",
        "        val_labels = shuffled_labels[train_size+test_size:]\n",
        "\n",
        "\n",
        "\n",
        "        if(self.mode == \"train\"):\n",
        "            self.image_list = train_images\n",
        "            self.labels = train_labels\n",
        "        elif(self.mode == \"val\"):\n",
        "            self.image_list = val_images\n",
        "            self.labels = val_labels\n",
        "        elif(self.mode == \"test\"):\n",
        "            self.image_list = test_images\n",
        "            self.labels = test_labels\n",
        "\n",
        "        \n",
        "\n",
        "    def __getitem__(self, index):\n",
        "        \n",
        "\n",
        "        image = Image.open(self.image_path+'/'+self.image_list[index])\n",
        "        label = self.labels[index]\n",
        "        # print(label)\n",
        "        # print(self.unique_labels)\n",
        "        label = self.parse_labels(label)\n",
        "        # print(label)\n",
        "        # Convert the image to RGB scale\n",
        "        image = image.convert('RGB')\n",
        "        \n",
        "        # image.show()\n",
        "          \n",
        "\n",
        "        mean = [0.485, 0.456, 0.406]\n",
        "        std = [0.229, 0.224, 0.225]\n",
        "        \n",
        "\n",
        "        # Data augmentation transformations\n",
        "        augmentation_transforms = transforms.Compose([\n",
        "            transforms.RandomHorizontalFlip(p=0.5),\n",
        "            transforms.RandomRotation(degrees=10),\n",
        "            transforms.ColorJitter(brightness=0.2, contrast=0.2, saturation=0.2, hue=0.1)\n",
        "        ])\n",
        "        # Create a transformation that normalizes the image\n",
        "        transform = transforms.Compose([\n",
        "            transforms.Resize(\n",
        "            (224, 224), interpolation=transforms.InterpolationMode.NEAREST),# Resize the image to 224x224\n",
        "            transforms.CenterCrop(size=(224, 224)),   \n",
        "            transforms.ToTensor(),           # Convert the image to a tensor\n",
        "            transforms.Normalize(mean, std)  # Normalize the image\n",
        "        ])\n",
        "\n",
        "        if(self.tr):\n",
        "            image = augmentation_transforms(image)\n",
        "        \n",
        "        \n",
        "        \n",
        "        image = transform(image)\n",
        "        \n",
        "\n",
        "        return image, label\n",
        "    \n",
        "    \n",
        "    def parse_labels(self, label):\n",
        "        arr = np.zeros((len(self.unique_labels),), dtype= float)\n",
        "        for i in range(len(self.unique_labels)):\n",
        "            if label == self.unique_labels[i]:\n",
        "                arr[i] = 1.0\n",
        "        return arr\n",
        "    \n",
        "\n",
        "\n",
        "    def __len__(self):\n",
        "        return len(self.image_list)\n",
        "        # return None\n",
        "\n",
        "\n",
        "custom_dataset()[1]\n",
        "# print(self.label)\n",
        "# cat is 0 and dog is 1\n"
      ],
      "id": "jftr7-ihUxYv"
    },
    {
      "cell_type": "code",
      "execution_count": 61,
      "metadata": {
        "colab": {
          "base_uri": "https://localhost:8080/"
        },
        "id": "DnuERCAc5D3J",
        "outputId": "78bf1b6b-17f1-4e2e-9b01-a96b3d265486"
      },
      "outputs": [
        {
          "output_type": "stream",
          "name": "stdout",
          "text": [
            "cuda\n"
          ]
        }
      ],
      "source": [
        "device = torch.device('cuda' if torch.cuda.is_available() else 'cpu')\n",
        "\n",
        "print(device)"
      ],
      "id": "DnuERCAc5D3J"
    },
    {
      "cell_type": "code",
      "source": [
        "# VGG 16 model"
      ],
      "metadata": {
        "id": "4TISj7cHqW76"
      },
      "id": "4TISj7cHqW76",
      "execution_count": null,
      "outputs": []
    },
    {
      "cell_type": "code",
      "source": [
        "import torch.nn as nn\n",
        "import torchvision.models as models\n",
        "vgg16=models.vgg16(pretrained=True)\n",
        "vgg16.classifier[6]=nn.Linear(4096,3)"
      ],
      "metadata": {
        "colab": {
          "base_uri": "https://localhost:8080/"
        },
        "id": "7joDZCC1hPwX",
        "outputId": "747434c8-713b-4a04-f70b-722b450b9807"
      },
      "id": "7joDZCC1hPwX",
      "execution_count": 62,
      "outputs": [
        {
          "output_type": "stream",
          "name": "stderr",
          "text": [
            "/usr/local/lib/python3.9/dist-packages/torchvision/models/_utils.py:223: UserWarning: Arguments other than a weight enum or `None` for 'weights' are deprecated since 0.13 and may be removed in the future. The current behavior is equivalent to passing `weights=VGG16_Weights.IMAGENET1K_V1`. You can also use `weights=VGG16_Weights.DEFAULT` to get the most up-to-date weights.\n",
            "  warnings.warn(msg)\n"
          ]
        }
      ]
    },
    {
      "cell_type": "code",
      "source": [
        "vgg16"
      ],
      "metadata": {
        "colab": {
          "base_uri": "https://localhost:8080/"
        },
        "id": "YprlprCyknup",
        "outputId": "b1f4f2ba-13a8-42a1-e9e0-c86d3628ab7e"
      },
      "id": "YprlprCyknup",
      "execution_count": 63,
      "outputs": [
        {
          "output_type": "execute_result",
          "data": {
            "text/plain": [
              "VGG(\n",
              "  (features): Sequential(\n",
              "    (0): Conv2d(3, 64, kernel_size=(3, 3), stride=(1, 1), padding=(1, 1))\n",
              "    (1): ReLU(inplace=True)\n",
              "    (2): Conv2d(64, 64, kernel_size=(3, 3), stride=(1, 1), padding=(1, 1))\n",
              "    (3): ReLU(inplace=True)\n",
              "    (4): MaxPool2d(kernel_size=2, stride=2, padding=0, dilation=1, ceil_mode=False)\n",
              "    (5): Conv2d(64, 128, kernel_size=(3, 3), stride=(1, 1), padding=(1, 1))\n",
              "    (6): ReLU(inplace=True)\n",
              "    (7): Conv2d(128, 128, kernel_size=(3, 3), stride=(1, 1), padding=(1, 1))\n",
              "    (8): ReLU(inplace=True)\n",
              "    (9): MaxPool2d(kernel_size=2, stride=2, padding=0, dilation=1, ceil_mode=False)\n",
              "    (10): Conv2d(128, 256, kernel_size=(3, 3), stride=(1, 1), padding=(1, 1))\n",
              "    (11): ReLU(inplace=True)\n",
              "    (12): Conv2d(256, 256, kernel_size=(3, 3), stride=(1, 1), padding=(1, 1))\n",
              "    (13): ReLU(inplace=True)\n",
              "    (14): Conv2d(256, 256, kernel_size=(3, 3), stride=(1, 1), padding=(1, 1))\n",
              "    (15): ReLU(inplace=True)\n",
              "    (16): MaxPool2d(kernel_size=2, stride=2, padding=0, dilation=1, ceil_mode=False)\n",
              "    (17): Conv2d(256, 512, kernel_size=(3, 3), stride=(1, 1), padding=(1, 1))\n",
              "    (18): ReLU(inplace=True)\n",
              "    (19): Conv2d(512, 512, kernel_size=(3, 3), stride=(1, 1), padding=(1, 1))\n",
              "    (20): ReLU(inplace=True)\n",
              "    (21): Conv2d(512, 512, kernel_size=(3, 3), stride=(1, 1), padding=(1, 1))\n",
              "    (22): ReLU(inplace=True)\n",
              "    (23): MaxPool2d(kernel_size=2, stride=2, padding=0, dilation=1, ceil_mode=False)\n",
              "    (24): Conv2d(512, 512, kernel_size=(3, 3), stride=(1, 1), padding=(1, 1))\n",
              "    (25): ReLU(inplace=True)\n",
              "    (26): Conv2d(512, 512, kernel_size=(3, 3), stride=(1, 1), padding=(1, 1))\n",
              "    (27): ReLU(inplace=True)\n",
              "    (28): Conv2d(512, 512, kernel_size=(3, 3), stride=(1, 1), padding=(1, 1))\n",
              "    (29): ReLU(inplace=True)\n",
              "    (30): MaxPool2d(kernel_size=2, stride=2, padding=0, dilation=1, ceil_mode=False)\n",
              "  )\n",
              "  (avgpool): AdaptiveAvgPool2d(output_size=(7, 7))\n",
              "  (classifier): Sequential(\n",
              "    (0): Linear(in_features=25088, out_features=4096, bias=True)\n",
              "    (1): ReLU(inplace=True)\n",
              "    (2): Dropout(p=0.5, inplace=False)\n",
              "    (3): Linear(in_features=4096, out_features=4096, bias=True)\n",
              "    (4): ReLU(inplace=True)\n",
              "    (5): Dropout(p=0.5, inplace=False)\n",
              "    (6): Linear(in_features=4096, out_features=3, bias=True)\n",
              "  )\n",
              ")"
            ]
          },
          "metadata": {},
          "execution_count": 63
        }
      ]
    },
    {
      "cell_type": "code",
      "execution_count": 9,
      "metadata": {
        "colab": {
          "base_uri": "https://localhost:8080/"
        },
        "id": "peRk_FhUQ6wq",
        "outputId": "adb68c93-e1f0-4163-a38b-b43eb52b8a0b"
      },
      "outputs": [
        {
          "output_type": "stream",
          "name": "stdout",
          "text": [
            "Looking in indexes: https://pypi.org/simple, https://us-python.pkg.dev/colab-wheels/public/simple/\n",
            "Collecting torchmetrics\n",
            "  Downloading torchmetrics-0.11.4-py3-none-any.whl (519 kB)\n",
            "\u001b[2K     \u001b[90m━━━━━━━━━━━━━━━━━━━━━━━━━━━━━━━━━━━━━━\u001b[0m \u001b[32m519.2/519.2 KB\u001b[0m \u001b[31m17.0 MB/s\u001b[0m eta \u001b[36m0:00:00\u001b[0m\n",
            "\u001b[?25hRequirement already satisfied: torch>=1.8.1 in /usr/local/lib/python3.9/dist-packages (from torchmetrics) (2.0.0+cu118)\n",
            "Requirement already satisfied: packaging in /usr/local/lib/python3.9/dist-packages (from torchmetrics) (23.0)\n",
            "Requirement already satisfied: numpy>=1.17.2 in /usr/local/lib/python3.9/dist-packages (from torchmetrics) (1.22.4)\n",
            "Requirement already satisfied: jinja2 in /usr/local/lib/python3.9/dist-packages (from torch>=1.8.1->torchmetrics) (3.1.2)\n",
            "Requirement already satisfied: triton==2.0.0 in /usr/local/lib/python3.9/dist-packages (from torch>=1.8.1->torchmetrics) (2.0.0)\n",
            "Requirement already satisfied: sympy in /usr/local/lib/python3.9/dist-packages (from torch>=1.8.1->torchmetrics) (1.11.1)\n",
            "Requirement already satisfied: networkx in /usr/local/lib/python3.9/dist-packages (from torch>=1.8.1->torchmetrics) (3.0)\n",
            "Requirement already satisfied: typing-extensions in /usr/local/lib/python3.9/dist-packages (from torch>=1.8.1->torchmetrics) (4.5.0)\n",
            "Requirement already satisfied: filelock in /usr/local/lib/python3.9/dist-packages (from torch>=1.8.1->torchmetrics) (3.10.7)\n",
            "Requirement already satisfied: lit in /usr/local/lib/python3.9/dist-packages (from triton==2.0.0->torch>=1.8.1->torchmetrics) (16.0.0)\n",
            "Requirement already satisfied: cmake in /usr/local/lib/python3.9/dist-packages (from triton==2.0.0->torch>=1.8.1->torchmetrics) (3.25.2)\n",
            "Requirement already satisfied: MarkupSafe>=2.0 in /usr/local/lib/python3.9/dist-packages (from jinja2->torch>=1.8.1->torchmetrics) (2.1.2)\n",
            "Requirement already satisfied: mpmath>=0.19 in /usr/local/lib/python3.9/dist-packages (from sympy->torch>=1.8.1->torchmetrics) (1.3.0)\n",
            "Installing collected packages: torchmetrics\n",
            "Successfully installed torchmetrics-0.11.4\n"
          ]
        }
      ],
      "source": [
        "pip install torchmetrics"
      ],
      "id": "peRk_FhUQ6wq"
    },
    {
      "cell_type": "code",
      "source": [
        "from torchmetrics.classification import MulticlassF1Score\n",
        "import torch\n",
        "\n",
        "\n",
        "def metrics(preds, target):\n",
        "    metr = MulticlassF1Score(num_classes=3)\n",
        "\n",
        "    return metr(preds, target)\n",
        "\n"
      ],
      "metadata": {
        "id": "8n4C9OEDzYVB"
      },
      "id": "8n4C9OEDzYVB",
      "execution_count": 10,
      "outputs": []
    },
    {
      "cell_type": "code",
      "source": [
        "import torch\n",
        "import torch.nn as nn\n",
        "from torch.nn.functional import softmax\n",
        "from torch.nn.functional import cross_entropy\n",
        "from torchmetrics import F1Score\n",
        "\n",
        "\n",
        "from torch.utils.data import DataLoader, Dataset\n",
        "# from models.example_model import ExModel\n",
        "# from datasets.dataset_retrieval import custom_dataset\n",
        "from torch.optim import SGD, Adam\n",
        "from torch.utils.tensorboard import SummaryWriter\n",
        "import tqdm\n",
        "\n",
        "import os\n",
        "\n",
        "save_model_path = \"checkpoints/\"\n",
        "pth_name = \"saved_model.pth\"\n",
        "\n",
        "\n",
        "\n",
        "\n",
        "def val(model, data_val, loss_function, writer, epoch):\n",
        "    f1score = 0\n",
        "    f1 = F1Score(num_classes=3, task = 'multiclass')\n",
        "    data_iterator = enumerate(data_val)  # take batches\n",
        "    f1_list = []\n",
        "    f1t_list = []\n",
        "\n",
        "    with torch.no_grad():\n",
        "        model.eval()  # switch model to evaluation mode\n",
        "        tq = tqdm.tqdm(total=len(data_val))\n",
        "        tq.set_description('Validation:')\n",
        "\n",
        "        total_loss = 0\n",
        "\n",
        "        for _, batch in data_iterator:\n",
        "            # forward propagation\n",
        "            image, label = batch\n",
        "            image = image.cuda()\n",
        "            label = label.cuda()\n",
        "            pred = model(image)\n",
        "\n",
        "            loss = loss_function(pred, label.float())\n",
        "            loss = loss.cuda()\n",
        "\n",
        "            pred = pred.softmax(dim=1)\n",
        "            \n",
        "            f1_list.extend(torch.argmax(pred, dim =1).tolist())\n",
        "            f1t_list.extend(torch.argmax(label, dim =1).tolist())\n",
        "            #f1score += f1_score(label.squeeze().detach().cpu(), pred.squeeze().detach().cpu())\n",
        "\n",
        "            total_loss += loss.item()\n",
        "            tq.update(1)\n",
        "\n",
        "    writer.add_scalar(\"Validation mIoU\", f1score/len(data_val), epoch)\n",
        "    writer.add_scalar(\"Validation Loss\", total_loss/len(data_val), epoch)\n",
        "\n",
        "\n",
        "    tq.close()\n",
        "    print(\"F1 score: \", f1(torch.tensor(f1_list), torch.tensor(f1t_list)))\n",
        "\n",
        "\n",
        "    return None\n",
        "\n",
        "\n",
        "def train(model, dataloader, val_loader, optimizer, loss_fn, n_epochs):\n",
        "    device = 'cuda'\n",
        "    writer = SummaryWriter()\n",
        "\n",
        "    model.cuda()  # Move the model to the specified device (e.g., GPU or CPU)\n",
        "    model.train()  # Set the model to training mode\n",
        "    for epoch in range(n_epochs):\n",
        "        running_loss = 0.0\n",
        "        tq = tqdm.tqdm(total=len(dataloader))\n",
        "        tq.set_description('epoch %d' % (epoch))\n",
        "        f1score = 0\n",
        "\n",
        "        for i, (images, labels) in enumerate(dataloader):\n",
        "            images = images.to(device)  # Move the batch of images to the specified device\n",
        "            labels = labels.to(device)  # Move the batch of labels to the specified device\n",
        "            \n",
        "            optimizer.zero_grad()  # Reset the gradients of the optimizer\n",
        "            \n",
        "            # Forward pass\n",
        "            outputs = model(images)\n",
        "            \n",
        "            # Compute loss\n",
        "            loss = loss_fn(outputs, labels)\n",
        "            outputs = outputs.softmax(dim=1)\n",
        "\n",
        "            # Backward pass\n",
        "            loss.backward()\n",
        "            #f1score += f1_score(labels.detach().cpu(), outputs.detach().cpu())\n",
        "\n",
        "            # Update model parameters\n",
        "            optimizer.step()\n",
        "            \n",
        "            running_loss += loss.item()\n",
        "            tq.set_postfix(loss_st='%.6f' % loss.item())\n",
        "            tq.update(1)\n",
        "        tq.close()\n",
        "        epoch_loss = running_loss / len(dataloader)\n",
        "        print('Epoch [{}/{}], Loss: {:.4f}'.format(epoch+1, n_epochs, epoch_loss))\n",
        "        \n",
        "        print(f1score/len(dataloader))\n",
        "        \n",
        "        \n",
        "        val(model, val_loader, loss_fn, writer, epoch)\n",
        "        \n",
        "        checkpoint = {\n",
        "            'epoch': epoch + 1,\n",
        "            'state_dict': model.state_dict(),\n",
        "            'optimizer': optimizer.state_dict()\n",
        "        }\n",
        "\n",
        "        torch.save(checkpoint, os.path.join(save_model_path, pth_name))\n",
        "        print(\"saved the model \" + save_model_path)\n",
        "        model.train()\n",
        "\n",
        "train_data = custom_dataset(\"train\")\n",
        "val_data = custom_dataset(\"val\")\n",
        "\n",
        "train_loader = DataLoader(\n",
        "    train_data,\n",
        "    batch_size=64,\n",
        "    shuffle=True\n",
        ")\n",
        "\n",
        "val_loader = DataLoader(\n",
        "    val_data,\n",
        "    batch_size=64\n",
        ")\n",
        "\n",
        "# model = ExModel(3).cuda()   # Initialsing an object of the class.\n",
        "\n",
        "optimizer = SGD(vgg16.parameters(),  lr=0.0001)\n",
        "# optimizer = Adam(vgg16.parameters(), lr=0.001)\n",
        "loss = nn.CrossEntropyLoss()\n",
        "\n",
        "\n",
        "# if you want to load your pretrained model or\n",
        "# you want to resume stopped training\n",
        "# use torch.load_state_dict by checking the library!\n",
        "\n",
        "\n",
        "train(vgg16, train_loader, val_loader,  optimizer,loss, 5)"
      ],
      "metadata": {
        "colab": {
          "base_uri": "https://localhost:8080/"
        },
        "id": "_XyXNynSzY2Y",
        "outputId": "d1df012e-73bc-4f91-e3e7-aaa9a8c96eb7"
      },
      "id": "_XyXNynSzY2Y",
      "execution_count": 76,
      "outputs": [
        {
          "output_type": "stream",
          "name": "stdout",
          "text": [
            "check if dataset is balanced: \n",
            "712 726 750\n",
            "2188\n",
            "2188\n",
            "['paper', 'scissors', 'rock']\n",
            "check if dataset is balanced: \n",
            "712 726 750\n",
            "2188\n",
            "2188\n",
            "['paper', 'scissors', 'rock']\n"
          ]
        },
        {
          "output_type": "stream",
          "name": "stderr",
          "text": [
            "epoch 0: 100%|██████████| 28/28 [00:41<00:00,  1.49s/it, loss_st=0.262128]\n"
          ]
        },
        {
          "output_type": "stream",
          "name": "stdout",
          "text": [
            "Epoch [1/5], Loss: 0.3216\n",
            "0.0\n"
          ]
        },
        {
          "output_type": "stream",
          "name": "stderr",
          "text": [
            "Validation:: 100%|██████████| 4/4 [00:03<00:00,  1.30it/s]\n"
          ]
        },
        {
          "output_type": "stream",
          "name": "stdout",
          "text": [
            "F1 score:  tensor(0.9726)\n",
            "saved the model checkpoints/\n"
          ]
        },
        {
          "output_type": "stream",
          "name": "stderr",
          "text": [
            "epoch 1: 100%|██████████| 28/28 [00:41<00:00,  1.47s/it, loss_st=0.274608]\n"
          ]
        },
        {
          "output_type": "stream",
          "name": "stdout",
          "text": [
            "Epoch [2/5], Loss: 0.2799\n",
            "0.0\n"
          ]
        },
        {
          "output_type": "stream",
          "name": "stderr",
          "text": [
            "Validation:: 100%|██████████| 4/4 [00:03<00:00,  1.28it/s]\n"
          ]
        },
        {
          "output_type": "stream",
          "name": "stdout",
          "text": [
            "F1 score:  tensor(0.9772)\n",
            "saved the model checkpoints/\n"
          ]
        },
        {
          "output_type": "stream",
          "name": "stderr",
          "text": [
            "epoch 2: 100%|██████████| 28/28 [00:40<00:00,  1.46s/it, loss_st=0.322407]\n"
          ]
        },
        {
          "output_type": "stream",
          "name": "stdout",
          "text": [
            "Epoch [3/5], Loss: 0.2508\n",
            "0.0\n"
          ]
        },
        {
          "output_type": "stream",
          "name": "stderr",
          "text": [
            "Validation:: 100%|██████████| 4/4 [00:03<00:00,  1.18it/s]\n"
          ]
        },
        {
          "output_type": "stream",
          "name": "stdout",
          "text": [
            "F1 score:  tensor(0.9909)\n",
            "saved the model checkpoints/\n"
          ]
        },
        {
          "output_type": "stream",
          "name": "stderr",
          "text": [
            "epoch 3: 100%|██████████| 28/28 [00:40<00:00,  1.45s/it, loss_st=0.178153]\n"
          ]
        },
        {
          "output_type": "stream",
          "name": "stdout",
          "text": [
            "Epoch [4/5], Loss: 0.2201\n",
            "0.0\n"
          ]
        },
        {
          "output_type": "stream",
          "name": "stderr",
          "text": [
            "Validation:: 100%|██████████| 4/4 [00:03<00:00,  1.31it/s]\n"
          ]
        },
        {
          "output_type": "stream",
          "name": "stdout",
          "text": [
            "F1 score:  tensor(0.9863)\n",
            "saved the model checkpoints/\n"
          ]
        },
        {
          "output_type": "stream",
          "name": "stderr",
          "text": [
            "epoch 4: 100%|██████████| 28/28 [00:40<00:00,  1.46s/it, loss_st=0.193553]\n"
          ]
        },
        {
          "output_type": "stream",
          "name": "stdout",
          "text": [
            "Epoch [5/5], Loss: 0.2005\n",
            "0.0\n"
          ]
        },
        {
          "output_type": "stream",
          "name": "stderr",
          "text": [
            "Validation:: 100%|██████████| 4/4 [00:03<00:00,  1.09it/s]\n"
          ]
        },
        {
          "output_type": "stream",
          "name": "stdout",
          "text": [
            "F1 score:  tensor(0.9817)\n",
            "saved the model checkpoints/\n"
          ]
        }
      ]
    },
    {
      "cell_type": "code",
      "source": [
        "# Load the state dictionary from the saved checkpoint into the model\n",
        "saved_checkpoint = torch.load(os.path.join(save_model_path, pth_name))\n",
        "vgg16.load_state_dict(saved_checkpoint['state_dict'])"
      ],
      "metadata": {
        "id": "4ZCGov_PpxKl",
        "colab": {
          "base_uri": "https://localhost:8080/"
        },
        "outputId": "9c6bb41c-366f-4e2c-d4ac-4da360061c60"
      },
      "id": "4ZCGov_PpxKl",
      "execution_count": 77,
      "outputs": [
        {
          "output_type": "execute_result",
          "data": {
            "text/plain": [
              "<All keys matched successfully>"
            ]
          },
          "metadata": {},
          "execution_count": 77
        }
      ]
    },
    {
      "cell_type": "code",
      "source": [
        "\n",
        "test_data = custom_dataset(\"test\")\n",
        "\n",
        "\n",
        "test_loader = DataLoader(\n",
        "    test_data,\n",
        "    batch_size=64\n",
        ")\n",
        "\n",
        "\n",
        "def test(model, data_test, loss_function):\n",
        "    f1score = 0\n",
        "    f1 = F1Score(num_classes=3, task = 'multiclass')\n",
        "    data_iterator = enumerate(data_test)  # take batches\n",
        "    f1_list = []\n",
        "    f1t_list = []\n",
        "\n",
        "    with torch.no_grad():\n",
        "        model.eval()  # switch model to evaluation mode\n",
        "        tq = tqdm.tqdm(total=len(data_test))\n",
        "        tq.set_description('Testing:')\n",
        "\n",
        "        total_loss = 0\n",
        "\n",
        "        for _, batch in data_iterator:\n",
        "            # forward propagation\n",
        "            image, label = batch\n",
        "            image = image.cuda()\n",
        "            label = label.cuda()\n",
        "            pred = model(image)\n",
        "\n",
        "            loss = loss_function(pred, label.float())\n",
        "            loss = loss.cuda()\n",
        "\n",
        "            pred = pred.softmax(dim=1)\n",
        "            \n",
        "            f1_list.extend(torch.argmax(pred, dim =1).tolist())\n",
        "            f1t_list.extend(torch.argmax(label, dim =1).tolist())\n",
        "            #f1score += f1_score(label.squeeze().detach().cpu(), pred.squeeze().detach().cpu())\n",
        "\n",
        "            total_loss += loss.item()\n",
        "            tq.update(1)\n",
        "\n",
        " \n",
        "    tq.close()\n",
        "    print(\"F1 score: \", f1(torch.tensor(f1_list), torch.tensor(f1t_list)))\n",
        "\n",
        "\n",
        "    return None\n",
        "\n",
        "\n",
        "\n",
        "test(vgg16, test_loader, loss)"
      ],
      "metadata": {
        "colab": {
          "base_uri": "https://localhost:8080/"
        },
        "id": "Wxh1Jq7N08UI",
        "outputId": "e2cf8434-c490-4b8a-edc2-2393effcb098"
      },
      "id": "Wxh1Jq7N08UI",
      "execution_count": 78,
      "outputs": [
        {
          "output_type": "stream",
          "name": "stdout",
          "text": [
            "check if dataset is balanced: \n",
            "712 726 750\n",
            "2188\n",
            "2188\n",
            "['paper', 'scissors', 'rock']\n"
          ]
        },
        {
          "output_type": "stream",
          "name": "stderr",
          "text": [
            "Testing:: 100%|██████████| 4/4 [00:03<00:00,  1.13it/s]"
          ]
        },
        {
          "output_type": "stream",
          "name": "stdout",
          "text": [
            "F1 score:  tensor(0.9589)\n"
          ]
        },
        {
          "output_type": "stream",
          "name": "stderr",
          "text": [
            "\n"
          ]
        }
      ]
    },
    {
      "cell_type": "code",
      "source": [],
      "metadata": {
        "id": "5TFq_PG4ESpQ"
      },
      "id": "5TFq_PG4ESpQ",
      "execution_count": null,
      "outputs": []
    },
    {
      "cell_type": "code",
      "source": [
        "# important section\n",
        "\n",
        "\n",
        "import torch\n",
        "from torchvision import transforms\n",
        "from PIL import Image\n",
        "import matplotlib.pyplot as plt\n",
        "\n",
        "# Load the saved VGG16 model\n",
        "# model = torch.load('path/to/saved/model.pt')\n",
        "\n",
        "# Define the preprocessing steps for the input image\n",
        "transform = transforms.Compose([\n",
        "    transforms.Resize((224,224)),\n",
        "    transforms.ToTensor(),\n",
        "    transforms.Normalize((0.485, 0.456, 0.406), (0.229, 0.224, 0.225))\n",
        "])\n",
        "\n",
        "# Use the following code to upload an image\n",
        "from google.colab import files\n",
        "uploaded = files.upload()\n",
        "\n",
        "# Loop through the uploaded images\n",
        "for fn in uploaded.keys():\n",
        "  # Load the image using PIL\n",
        "  img = Image.open(fn)\n",
        "  \n",
        "  # Apply the preprocessing steps defined above\n",
        "  img = transform(img)\n",
        "  img = img.unsqueeze(0)\n",
        "\n",
        "  # Make the prediction using the VGG16 model\n",
        "  with torch.no_grad():\n",
        "      outputs = vgg16(img.cuda())\n",
        "      _, predicted = torch.max(outputs, 1)\n",
        "      predict_proba = torch.nn.functional.softmax(outputs, dim=1)[0][predicted]\n",
        "  \n",
        "  # Print the predicted label and probability\n",
        "  if predicted.item() == 0:\n",
        "      predict_label = 'Paper'\n",
        "  elif predicted.item() == 1:\n",
        "      predict_label = 'Rock'\n",
        "  elif predicted.item() == 2:\n",
        "      predict_label = 'Scissor'\n",
        "  \n",
        "  print('\\n')\n",
        "  plt.imshow(Image.open(fn))\n",
        "  plt.show()\n",
        "  print(\"\\nImage prediction result: \", predict_label)\n",
        "  print(\"Probability: \", round(predict_proba.item()*100,2), \"%\")\n",
        "  print('\\n')\n"
      ],
      "metadata": {
        "colab": {
          "base_uri": "https://localhost:8080/",
          "height": 578
        },
        "id": "kSMkxYjII3yi",
        "outputId": "99afa77f-59ed-43c2-8487-f33532553eff"
      },
      "id": "kSMkxYjII3yi",
      "execution_count": 80,
      "outputs": [
        {
          "output_type": "display_data",
          "data": {
            "text/plain": [
              "<IPython.core.display.HTML object>"
            ],
            "text/html": [
              "\n",
              "     <input type=\"file\" id=\"files-2b572643-108c-483b-8dd0-5e0295ae02e4\" name=\"files[]\" multiple disabled\n",
              "        style=\"border:none\" />\n",
              "     <output id=\"result-2b572643-108c-483b-8dd0-5e0295ae02e4\">\n",
              "      Upload widget is only available when the cell has been executed in the\n",
              "      current browser session. Please rerun this cell to enable.\n",
              "      </output>\n",
              "      <script>// Copyright 2017 Google LLC\n",
              "//\n",
              "// Licensed under the Apache License, Version 2.0 (the \"License\");\n",
              "// you may not use this file except in compliance with the License.\n",
              "// You may obtain a copy of the License at\n",
              "//\n",
              "//      http://www.apache.org/licenses/LICENSE-2.0\n",
              "//\n",
              "// Unless required by applicable law or agreed to in writing, software\n",
              "// distributed under the License is distributed on an \"AS IS\" BASIS,\n",
              "// WITHOUT WARRANTIES OR CONDITIONS OF ANY KIND, either express or implied.\n",
              "// See the License for the specific language governing permissions and\n",
              "// limitations under the License.\n",
              "\n",
              "/**\n",
              " * @fileoverview Helpers for google.colab Python module.\n",
              " */\n",
              "(function(scope) {\n",
              "function span(text, styleAttributes = {}) {\n",
              "  const element = document.createElement('span');\n",
              "  element.textContent = text;\n",
              "  for (const key of Object.keys(styleAttributes)) {\n",
              "    element.style[key] = styleAttributes[key];\n",
              "  }\n",
              "  return element;\n",
              "}\n",
              "\n",
              "// Max number of bytes which will be uploaded at a time.\n",
              "const MAX_PAYLOAD_SIZE = 100 * 1024;\n",
              "\n",
              "function _uploadFiles(inputId, outputId) {\n",
              "  const steps = uploadFilesStep(inputId, outputId);\n",
              "  const outputElement = document.getElementById(outputId);\n",
              "  // Cache steps on the outputElement to make it available for the next call\n",
              "  // to uploadFilesContinue from Python.\n",
              "  outputElement.steps = steps;\n",
              "\n",
              "  return _uploadFilesContinue(outputId);\n",
              "}\n",
              "\n",
              "// This is roughly an async generator (not supported in the browser yet),\n",
              "// where there are multiple asynchronous steps and the Python side is going\n",
              "// to poll for completion of each step.\n",
              "// This uses a Promise to block the python side on completion of each step,\n",
              "// then passes the result of the previous step as the input to the next step.\n",
              "function _uploadFilesContinue(outputId) {\n",
              "  const outputElement = document.getElementById(outputId);\n",
              "  const steps = outputElement.steps;\n",
              "\n",
              "  const next = steps.next(outputElement.lastPromiseValue);\n",
              "  return Promise.resolve(next.value.promise).then((value) => {\n",
              "    // Cache the last promise value to make it available to the next\n",
              "    // step of the generator.\n",
              "    outputElement.lastPromiseValue = value;\n",
              "    return next.value.response;\n",
              "  });\n",
              "}\n",
              "\n",
              "/**\n",
              " * Generator function which is called between each async step of the upload\n",
              " * process.\n",
              " * @param {string} inputId Element ID of the input file picker element.\n",
              " * @param {string} outputId Element ID of the output display.\n",
              " * @return {!Iterable<!Object>} Iterable of next steps.\n",
              " */\n",
              "function* uploadFilesStep(inputId, outputId) {\n",
              "  const inputElement = document.getElementById(inputId);\n",
              "  inputElement.disabled = false;\n",
              "\n",
              "  const outputElement = document.getElementById(outputId);\n",
              "  outputElement.innerHTML = '';\n",
              "\n",
              "  const pickedPromise = new Promise((resolve) => {\n",
              "    inputElement.addEventListener('change', (e) => {\n",
              "      resolve(e.target.files);\n",
              "    });\n",
              "  });\n",
              "\n",
              "  const cancel = document.createElement('button');\n",
              "  inputElement.parentElement.appendChild(cancel);\n",
              "  cancel.textContent = 'Cancel upload';\n",
              "  const cancelPromise = new Promise((resolve) => {\n",
              "    cancel.onclick = () => {\n",
              "      resolve(null);\n",
              "    };\n",
              "  });\n",
              "\n",
              "  // Wait for the user to pick the files.\n",
              "  const files = yield {\n",
              "    promise: Promise.race([pickedPromise, cancelPromise]),\n",
              "    response: {\n",
              "      action: 'starting',\n",
              "    }\n",
              "  };\n",
              "\n",
              "  cancel.remove();\n",
              "\n",
              "  // Disable the input element since further picks are not allowed.\n",
              "  inputElement.disabled = true;\n",
              "\n",
              "  if (!files) {\n",
              "    return {\n",
              "      response: {\n",
              "        action: 'complete',\n",
              "      }\n",
              "    };\n",
              "  }\n",
              "\n",
              "  for (const file of files) {\n",
              "    const li = document.createElement('li');\n",
              "    li.append(span(file.name, {fontWeight: 'bold'}));\n",
              "    li.append(span(\n",
              "        `(${file.type || 'n/a'}) - ${file.size} bytes, ` +\n",
              "        `last modified: ${\n",
              "            file.lastModifiedDate ? file.lastModifiedDate.toLocaleDateString() :\n",
              "                                    'n/a'} - `));\n",
              "    const percent = span('0% done');\n",
              "    li.appendChild(percent);\n",
              "\n",
              "    outputElement.appendChild(li);\n",
              "\n",
              "    const fileDataPromise = new Promise((resolve) => {\n",
              "      const reader = new FileReader();\n",
              "      reader.onload = (e) => {\n",
              "        resolve(e.target.result);\n",
              "      };\n",
              "      reader.readAsArrayBuffer(file);\n",
              "    });\n",
              "    // Wait for the data to be ready.\n",
              "    let fileData = yield {\n",
              "      promise: fileDataPromise,\n",
              "      response: {\n",
              "        action: 'continue',\n",
              "      }\n",
              "    };\n",
              "\n",
              "    // Use a chunked sending to avoid message size limits. See b/62115660.\n",
              "    let position = 0;\n",
              "    do {\n",
              "      const length = Math.min(fileData.byteLength - position, MAX_PAYLOAD_SIZE);\n",
              "      const chunk = new Uint8Array(fileData, position, length);\n",
              "      position += length;\n",
              "\n",
              "      const base64 = btoa(String.fromCharCode.apply(null, chunk));\n",
              "      yield {\n",
              "        response: {\n",
              "          action: 'append',\n",
              "          file: file.name,\n",
              "          data: base64,\n",
              "        },\n",
              "      };\n",
              "\n",
              "      let percentDone = fileData.byteLength === 0 ?\n",
              "          100 :\n",
              "          Math.round((position / fileData.byteLength) * 100);\n",
              "      percent.textContent = `${percentDone}% done`;\n",
              "\n",
              "    } while (position < fileData.byteLength);\n",
              "  }\n",
              "\n",
              "  // All done.\n",
              "  yield {\n",
              "    response: {\n",
              "      action: 'complete',\n",
              "    }\n",
              "  };\n",
              "}\n",
              "\n",
              "scope.google = scope.google || {};\n",
              "scope.google.colab = scope.google.colab || {};\n",
              "scope.google.colab._files = {\n",
              "  _uploadFiles,\n",
              "  _uploadFilesContinue,\n",
              "};\n",
              "})(self);\n",
              "</script> "
            ]
          },
          "metadata": {}
        },
        {
          "output_type": "stream",
          "name": "stdout",
          "text": [
            "Saving 1_FnkQhOGXoRNmYFnPO3gWNA.jpg to 1_FnkQhOGXoRNmYFnPO3gWNA (1).jpg\n",
            "\n",
            "\n"
          ]
        },
        {
          "output_type": "display_data",
          "data": {
            "text/plain": [
              "<Figure size 640x480 with 1 Axes>"
            ],
            "image/png": "[encoded data removed]"
          },
          "metadata": {}
        },
        {
          "output_type": "stream",
          "name": "stdout",
          "text": [
            "\n",
            "Image prediction result:  Paper\n",
            "Probability:  67.05 %\n",
            "\n",
            "\n"
          ]
        }
      ]
    },
    {
      "cell_type": "code",
      "source": [],
      "metadata": {
        "id": "gqmuTrUXr0KV"
      },
      "id": "gqmuTrUXr0KV",
      "execution_count": null,
      "outputs": []
    },
    {
      "cell_type": "code",
      "source": [
        "# RESNET 18 model"
      ],
      "metadata": {
        "id": "GIvwDENAoi1y"
      },
      "id": "GIvwDENAoi1y",
      "execution_count": null,
      "outputs": []
    },
    {
      "cell_type": "code",
      "source": [
        "resnet18=models.resnet18(pretrained=True)\n",
        "resnet18.fc=nn.Linear(512,3)"
      ],
      "metadata": {
        "id": "n8UTzINdpMtI"
      },
      "id": "n8UTzINdpMtI",
      "execution_count": 67,
      "outputs": []
    },
    {
      "cell_type": "code",
      "source": [
        "resnet18"
      ],
      "metadata": {
        "colab": {
          "base_uri": "https://localhost:8080/"
        },
        "id": "VFFyPz8TpvGq",
        "outputId": "8d00c395-9888-4c69-afbf-3603a24799d9"
      },
      "id": "VFFyPz8TpvGq",
      "execution_count": 68,
      "outputs": [
        {
          "output_type": "execute_result",
          "data": {
            "text/plain": [
              "ResNet(\n",
              "  (conv1): Conv2d(3, 64, kernel_size=(7, 7), stride=(2, 2), padding=(3, 3), bias=False)\n",
              "  (bn1): BatchNorm2d(64, eps=1e-05, momentum=0.1, affine=True, track_running_stats=True)\n",
              "  (relu): ReLU(inplace=True)\n",
              "  (maxpool): MaxPool2d(kernel_size=3, stride=2, padding=1, dilation=1, ceil_mode=False)\n",
              "  (layer1): Sequential(\n",
              "    (0): BasicBlock(\n",
              "      (conv1): Conv2d(64, 64, kernel_size=(3, 3), stride=(1, 1), padding=(1, 1), bias=False)\n",
              "      (bn1): BatchNorm2d(64, eps=1e-05, momentum=0.1, affine=True, track_running_stats=True)\n",
              "      (relu): ReLU(inplace=True)\n",
              "      (conv2): Conv2d(64, 64, kernel_size=(3, 3), stride=(1, 1), padding=(1, 1), bias=False)\n",
              "      (bn2): BatchNorm2d(64, eps=1e-05, momentum=0.1, affine=True, track_running_stats=True)\n",
              "    )\n",
              "    (1): BasicBlock(\n",
              "      (conv1): Conv2d(64, 64, kernel_size=(3, 3), stride=(1, 1), padding=(1, 1), bias=False)\n",
              "      (bn1): BatchNorm2d(64, eps=1e-05, momentum=0.1, affine=True, track_running_stats=True)\n",
              "      (relu): ReLU(inplace=True)\n",
              "      (conv2): Conv2d(64, 64, kernel_size=(3, 3), stride=(1, 1), padding=(1, 1), bias=False)\n",
              "      (bn2): BatchNorm2d(64, eps=1e-05, momentum=0.1, affine=True, track_running_stats=True)\n",
              "    )\n",
              "  )\n",
              "  (layer2): Sequential(\n",
              "    (0): BasicBlock(\n",
              "      (conv1): Conv2d(64, 128, kernel_size=(3, 3), stride=(2, 2), padding=(1, 1), bias=False)\n",
              "      (bn1): BatchNorm2d(128, eps=1e-05, momentum=0.1, affine=True, track_running_stats=True)\n",
              "      (relu): ReLU(inplace=True)\n",
              "      (conv2): Conv2d(128, 128, kernel_size=(3, 3), stride=(1, 1), padding=(1, 1), bias=False)\n",
              "      (bn2): BatchNorm2d(128, eps=1e-05, momentum=0.1, affine=True, track_running_stats=True)\n",
              "      (downsample): Sequential(\n",
              "        (0): Conv2d(64, 128, kernel_size=(1, 1), stride=(2, 2), bias=False)\n",
              "        (1): BatchNorm2d(128, eps=1e-05, momentum=0.1, affine=True, track_running_stats=True)\n",
              "      )\n",
              "    )\n",
              "    (1): BasicBlock(\n",
              "      (conv1): Conv2d(128, 128, kernel_size=(3, 3), stride=(1, 1), padding=(1, 1), bias=False)\n",
              "      (bn1): BatchNorm2d(128, eps=1e-05, momentum=0.1, affine=True, track_running_stats=True)\n",
              "      (relu): ReLU(inplace=True)\n",
              "      (conv2): Conv2d(128, 128, kernel_size=(3, 3), stride=(1, 1), padding=(1, 1), bias=False)\n",
              "      (bn2): BatchNorm2d(128, eps=1e-05, momentum=0.1, affine=True, track_running_stats=True)\n",
              "    )\n",
              "  )\n",
              "  (layer3): Sequential(\n",
              "    (0): BasicBlock(\n",
              "      (conv1): Conv2d(128, 256, kernel_size=(3, 3), stride=(2, 2), padding=(1, 1), bias=False)\n",
              "      (bn1): BatchNorm2d(256, eps=1e-05, momentum=0.1, affine=True, track_running_stats=True)\n",
              "      (relu): ReLU(inplace=True)\n",
              "      (conv2): Conv2d(256, 256, kernel_size=(3, 3), stride=(1, 1), padding=(1, 1), bias=False)\n",
              "      (bn2): BatchNorm2d(256, eps=1e-05, momentum=0.1, affine=True, track_running_stats=True)\n",
              "      (downsample): Sequential(\n",
              "        (0): Conv2d(128, 256, kernel_size=(1, 1), stride=(2, 2), bias=False)\n",
              "        (1): BatchNorm2d(256, eps=1e-05, momentum=0.1, affine=True, track_running_stats=True)\n",
              "      )\n",
              "    )\n",
              "    (1): BasicBlock(\n",
              "      (conv1): Conv2d(256, 256, kernel_size=(3, 3), stride=(1, 1), padding=(1, 1), bias=False)\n",
              "      (bn1): BatchNorm2d(256, eps=1e-05, momentum=0.1, affine=True, track_running_stats=True)\n",
              "      (relu): ReLU(inplace=True)\n",
              "      (conv2): Conv2d(256, 256, kernel_size=(3, 3), stride=(1, 1), padding=(1, 1), bias=False)\n",
              "      (bn2): BatchNorm2d(256, eps=1e-05, momentum=0.1, affine=True, track_running_stats=True)\n",
              "    )\n",
              "  )\n",
              "  (layer4): Sequential(\n",
              "    (0): BasicBlock(\n",
              "      (conv1): Conv2d(256, 512, kernel_size=(3, 3), stride=(2, 2), padding=(1, 1), bias=False)\n",
              "      (bn1): BatchNorm2d(512, eps=1e-05, momentum=0.1, affine=True, track_running_stats=True)\n",
              "      (relu): ReLU(inplace=True)\n",
              "      (conv2): Conv2d(512, 512, kernel_size=(3, 3), stride=(1, 1), padding=(1, 1), bias=False)\n",
              "      (bn2): BatchNorm2d(512, eps=1e-05, momentum=0.1, affine=True, track_running_stats=True)\n",
              "      (downsample): Sequential(\n",
              "        (0): Conv2d(256, 512, kernel_size=(1, 1), stride=(2, 2), bias=False)\n",
              "        (1): BatchNorm2d(512, eps=1e-05, momentum=0.1, affine=True, track_running_stats=True)\n",
              "      )\n",
              "    )\n",
              "    (1): BasicBlock(\n",
              "      (conv1): Conv2d(512, 512, kernel_size=(3, 3), stride=(1, 1), padding=(1, 1), bias=False)\n",
              "      (bn1): BatchNorm2d(512, eps=1e-05, momentum=0.1, affine=True, track_running_stats=True)\n",
              "      (relu): ReLU(inplace=True)\n",
              "      (conv2): Conv2d(512, 512, kernel_size=(3, 3), stride=(1, 1), padding=(1, 1), bias=False)\n",
              "      (bn2): BatchNorm2d(512, eps=1e-05, momentum=0.1, affine=True, track_running_stats=True)\n",
              "    )\n",
              "  )\n",
              "  (avgpool): AdaptiveAvgPool2d(output_size=(1, 1))\n",
              "  (fc): Linear(in_features=512, out_features=3, bias=True)\n",
              ")"
            ]
          },
          "metadata": {},
          "execution_count": 68
        }
      ]
    },
    {
      "cell_type": "code",
      "source": [
        "import torch\n",
        "import torch.nn as nn\n",
        "from torch.nn.functional import softmax\n",
        "from torch.nn.functional import cross_entropy\n",
        "from torchmetrics import F1Score\n",
        "\n",
        "\n",
        "from torch.utils.data import DataLoader, Dataset\n",
        "# from models.example_model import ExModel\n",
        "# from datasets.dataset_retrieval import custom_dataset\n",
        "from torch.optim import SGD, Adam\n",
        "from torch.utils.tensorboard import SummaryWriter\n",
        "import tqdm\n",
        "\n",
        "import os\n",
        "\n",
        "save_model_path = \"checkpoints/\"\n",
        "pth_name = \"saved_model.pth\"\n",
        "\n",
        "\n",
        "\n",
        "\n",
        "def val(model, data_val, loss_function, writer, epoch):\n",
        "    f1score = 0\n",
        "    f1 = F1Score(num_classes=3, task = 'multiclass')\n",
        "    data_iterator = enumerate(data_val)  # take batches\n",
        "    f1_list = []\n",
        "    f1t_list = []\n",
        "\n",
        "    with torch.no_grad():\n",
        "        model.eval()  # switch model to evaluation mode\n",
        "        tq = tqdm.tqdm(total=len(data_val))\n",
        "        tq.set_description('Validation:')\n",
        "\n",
        "        total_loss = 0\n",
        "\n",
        "        for _, batch in data_iterator:\n",
        "            # forward propagation\n",
        "            image, label = batch\n",
        "            image = image.cuda()\n",
        "            label = label.cuda()\n",
        "            pred = model(image)\n",
        "\n",
        "            loss = loss_function(pred, label.float())\n",
        "            loss = loss.cuda()\n",
        "\n",
        "            pred = pred.softmax(dim=1)\n",
        "            \n",
        "            f1_list.extend(torch.argmax(pred, dim =1).tolist())\n",
        "            f1t_list.extend(torch.argmax(label, dim =1).tolist())\n",
        "            #f1score += f1_score(label.squeeze().detach().cpu(), pred.squeeze().detach().cpu())\n",
        "\n",
        "            total_loss += loss.item()\n",
        "            tq.update(1)\n",
        "\n",
        "    writer.add_scalar(\"Validation mIoU\", f1score/len(data_val), epoch)\n",
        "    writer.add_scalar(\"Validation Loss\", total_loss/len(data_val), epoch)\n",
        "\n",
        "\n",
        "    tq.close()\n",
        "    print(\"F1 score: \", f1(torch.tensor(f1_list), torch.tensor(f1t_list)))\n",
        "\n",
        "\n",
        "    return None\n",
        "\n",
        "\n",
        "def train(model, dataloader, val_loader, optimizer, loss_fn, n_epochs):\n",
        "    device = 'cuda'\n",
        "    writer = SummaryWriter()\n",
        "\n",
        "    model.cuda()  # Move the model to the specified device (e.g., GPU or CPU)\n",
        "    model.train()  # Set the model to training mode\n",
        "    for epoch in range(n_epochs):\n",
        "        running_loss = 0.0\n",
        "        tq = tqdm.tqdm(total=len(dataloader))\n",
        "        tq.set_description('epoch %d' % (epoch))\n",
        "        f1score = 0\n",
        "\n",
        "        for i, (images, labels) in enumerate(dataloader):\n",
        "            images = images.to(device)  # Move the batch of images to the specified device\n",
        "            labels = labels.to(device)  # Move the batch of labels to the specified device\n",
        "            \n",
        "            optimizer.zero_grad()  # Reset the gradients of the optimizer\n",
        "            \n",
        "            # Forward pass\n",
        "            outputs = model(images)\n",
        "            \n",
        "            # Compute loss\n",
        "            loss = loss_fn(outputs, labels)\n",
        "            outputs = outputs.softmax(dim=1)\n",
        "\n",
        "            # Backward pass\n",
        "            loss.backward()\n",
        "            #f1score += f1_score(labels.detach().cpu(), outputs.detach().cpu())\n",
        "\n",
        "            # Update model parameters\n",
        "            optimizer.step()\n",
        "            \n",
        "            running_loss += loss.item()\n",
        "            tq.set_postfix(loss_st='%.6f' % loss.item())\n",
        "            tq.update(1)\n",
        "        tq.close()\n",
        "        epoch_loss = running_loss / len(dataloader)\n",
        "        print('Epoch [{}/{}], Loss: {:.4f}'.format(epoch+1, n_epochs, epoch_loss))\n",
        "        \n",
        "        print(f1score/len(dataloader))\n",
        "        \n",
        "        \n",
        "        val(model, val_loader, loss_fn, writer, epoch)\n",
        "        \n",
        "        checkpoint = {\n",
        "            'epoch': epoch + 1,\n",
        "            'state_dict': model.state_dict(),\n",
        "            'optimizer': optimizer.state_dict()\n",
        "        }\n",
        "\n",
        "        torch.save(checkpoint, os.path.join(save_model_path, pth_name))\n",
        "        print(\"saved the model \" + save_model_path)\n",
        "        model.train()\n",
        "\n",
        "train_data = custom_dataset(\"train\")\n",
        "val_data = custom_dataset(\"val\")\n",
        "\n",
        "train_loader = DataLoader(\n",
        "    train_data,\n",
        "    batch_size=64,\n",
        "    shuffle=True\n",
        ")\n",
        "\n",
        "val_loader = DataLoader(\n",
        "    val_data,\n",
        "    batch_size=64\n",
        ")\n",
        "\n",
        "# model = ExModel(3).cuda()   # Initialsing an object of the class.\n",
        "\n",
        "optimizer = SGD(resnet18.parameters(),  lr=0.0001)\n",
        "# optimizer = Adam(resnet18.parameters(), lr=0.001)\n",
        "loss = nn.CrossEntropyLoss()\n",
        "\n",
        "\n",
        "# if you want to load your pretrained model or\n",
        "# you want to resume stopped training\n",
        "# use torch.load_state_dict by checking the library!\n",
        "\n",
        "\n",
        "train(resnet18, train_loader, val_loader,  optimizer,loss, 5)"
      ],
      "metadata": {
        "colab": {
          "base_uri": "https://localhost:8080/"
        },
        "id": "iwCnd8ugp2Hi",
        "outputId": "350c5397-4721-4f8f-8cd4-c471538697b1"
      },
      "id": "iwCnd8ugp2Hi",
      "execution_count": 73,
      "outputs": [
        {
          "output_type": "stream",
          "name": "stdout",
          "text": [
            "check if dataset is balanced: \n",
            "712 726 750\n",
            "2188\n",
            "2188\n",
            "['paper', 'scissors', 'rock']\n",
            "check if dataset is balanced: \n",
            "712 726 750\n",
            "2188\n",
            "2188\n",
            "['paper', 'scissors', 'rock']\n"
          ]
        },
        {
          "output_type": "stream",
          "name": "stderr",
          "text": [
            "epoch 0: 100%|██████████| 28/28 [00:23<00:00,  1.19it/s, loss_st=0.659429]\n"
          ]
        },
        {
          "output_type": "stream",
          "name": "stdout",
          "text": [
            "Epoch [1/5], Loss: 0.6821\n",
            "0.0\n"
          ]
        },
        {
          "output_type": "stream",
          "name": "stderr",
          "text": [
            "Validation:: 100%|██████████| 4/4 [00:02<00:00,  1.79it/s]\n"
          ]
        },
        {
          "output_type": "stream",
          "name": "stdout",
          "text": [
            "F1 score:  tensor(0.8493)\n",
            "saved the model checkpoints/\n"
          ]
        },
        {
          "output_type": "stream",
          "name": "stderr",
          "text": [
            "epoch 1: 100%|██████████| 28/28 [00:22<00:00,  1.23it/s, loss_st=0.660675]\n"
          ]
        },
        {
          "output_type": "stream",
          "name": "stdout",
          "text": [
            "Epoch [2/5], Loss: 0.6643\n",
            "0.0\n"
          ]
        },
        {
          "output_type": "stream",
          "name": "stderr",
          "text": [
            "Validation:: 100%|██████████| 4/4 [00:02<00:00,  1.50it/s]\n"
          ]
        },
        {
          "output_type": "stream",
          "name": "stdout",
          "text": [
            "F1 score:  tensor(0.8858)\n",
            "saved the model checkpoints/\n"
          ]
        },
        {
          "output_type": "stream",
          "name": "stderr",
          "text": [
            "epoch 2: 100%|██████████| 28/28 [00:22<00:00,  1.25it/s, loss_st=0.809072]\n"
          ]
        },
        {
          "output_type": "stream",
          "name": "stdout",
          "text": [
            "Epoch [3/5], Loss: 0.6580\n",
            "0.0\n"
          ]
        },
        {
          "output_type": "stream",
          "name": "stderr",
          "text": [
            "Validation:: 100%|██████████| 4/4 [00:03<00:00,  1.24it/s]\n"
          ]
        },
        {
          "output_type": "stream",
          "name": "stdout",
          "text": [
            "F1 score:  tensor(0.8676)\n",
            "saved the model checkpoints/\n"
          ]
        },
        {
          "output_type": "stream",
          "name": "stderr",
          "text": [
            "epoch 3: 100%|██████████| 28/28 [00:22<00:00,  1.24it/s, loss_st=0.628737]\n"
          ]
        },
        {
          "output_type": "stream",
          "name": "stdout",
          "text": [
            "Epoch [4/5], Loss: 0.6345\n",
            "0.0\n"
          ]
        },
        {
          "output_type": "stream",
          "name": "stderr",
          "text": [
            "Validation:: 100%|██████████| 4/4 [00:02<00:00,  1.52it/s]\n"
          ]
        },
        {
          "output_type": "stream",
          "name": "stdout",
          "text": [
            "F1 score:  tensor(0.8995)\n",
            "saved the model checkpoints/\n"
          ]
        },
        {
          "output_type": "stream",
          "name": "stderr",
          "text": [
            "epoch 4: 100%|██████████| 28/28 [00:23<00:00,  1.21it/s, loss_st=0.531494]\n"
          ]
        },
        {
          "output_type": "stream",
          "name": "stdout",
          "text": [
            "Epoch [5/5], Loss: 0.6080\n",
            "0.0\n"
          ]
        },
        {
          "output_type": "stream",
          "name": "stderr",
          "text": [
            "Validation:: 100%|██████████| 4/4 [00:02<00:00,  1.74it/s]"
          ]
        },
        {
          "output_type": "stream",
          "name": "stdout",
          "text": [
            "F1 score:  tensor(0.8767)\n",
            "saved the model checkpoints/\n"
          ]
        },
        {
          "output_type": "stream",
          "name": "stderr",
          "text": [
            "\n"
          ]
        }
      ]
    },
    {
      "cell_type": "code",
      "source": [
        "saved_checkpoint = torch.load(os.path.join(save_model_path, pth_name))\n",
        "\n",
        "resnet18.load_state_dict(saved_checkpoint['state_dict'])"
      ],
      "metadata": {
        "colab": {
          "base_uri": "https://localhost:8080/"
        },
        "id": "XUsW_Walp8Hw",
        "outputId": "38dec885-5bd3-4017-d301-c80850a623c1"
      },
      "id": "XUsW_Walp8Hw",
      "execution_count": 74,
      "outputs": [
        {
          "output_type": "execute_result",
          "data": {
            "text/plain": [
              "<All keys matched successfully>"
            ]
          },
          "metadata": {},
          "execution_count": 74
        }
      ]
    },
    {
      "cell_type": "code",
      "source": [
        "\n",
        "test_data = custom_dataset(\"test\")\n",
        "\n",
        "\n",
        "test_loader = DataLoader(\n",
        "    test_data,\n",
        "    batch_size=64\n",
        ")\n",
        "\n",
        "\n",
        "def test(model, data_test, loss_function):\n",
        "    f1score = 0\n",
        "    f1 = F1Score(num_classes=3, task = 'multiclass')\n",
        "    data_iterator = enumerate(data_test)  # take batches\n",
        "    f1_list = []\n",
        "    f1t_list = []\n",
        "\n",
        "    with torch.no_grad():\n",
        "        model.eval()  # switch model to evaluation mode\n",
        "        tq = tqdm.tqdm(total=len(data_test))\n",
        "        tq.set_description('Testing:')\n",
        "\n",
        "        total_loss = 0\n",
        "\n",
        "        for _, batch in data_iterator:\n",
        "            # forward propagation\n",
        "            image, label = batch\n",
        "            image = image.cuda()\n",
        "            label = label.cuda()\n",
        "            pred = model(image)\n",
        "\n",
        "            loss = loss_function(pred, label.float())\n",
        "            loss = loss.cuda()\n",
        "\n",
        "            pred = pred.softmax(dim=1)\n",
        "            \n",
        "            f1_list.extend(torch.argmax(pred, dim =1).tolist())\n",
        "            f1t_list.extend(torch.argmax(label, dim =1).tolist())\n",
        "            # print(pred)\n",
        "            # print(label)\n",
        "            # print('------')\n",
        "            #f1score += f1_score(label.squeeze().detach().cpu(), pred.squeeze().detach().cpu())\n",
        "\n",
        "            total_loss += loss.item()\n",
        "            tq.update(1)\n",
        "\n",
        "    \n",
        "    tq.close()\n",
        "    print(\"F1 score: \", f1(torch.tensor(f1_list), torch.tensor(f1t_list)))\n",
        "    print(f1_list)\n",
        "    print(f1t_list)\n",
        "    print('------')\n",
        "\n",
        "    return None\n",
        "\n",
        "\n",
        "\n",
        "test(resnet18, test_loader, loss)"
      ],
      "metadata": {
        "colab": {
          "base_uri": "https://localhost:8080/"
        },
        "id": "kFX9pjkzqKoO",
        "outputId": "549297be-3d3a-480e-abca-6387abee0756"
      },
      "id": "kFX9pjkzqKoO",
      "execution_count": 75,
      "outputs": [
        {
          "output_type": "stream",
          "name": "stdout",
          "text": [
            "check if dataset is balanced: \n",
            "712 726 750\n",
            "2188\n",
            "2188\n",
            "['paper', 'scissors', 'rock']\n"
          ]
        },
        {
          "output_type": "stream",
          "name": "stderr",
          "text": [
            "Testing:: 100%|██████████| 4/4 [00:03<00:00,  1.24it/s]"
          ]
        },
        {
          "output_type": "stream",
          "name": "stdout",
          "text": [
            "F1 score:  tensor(0.8904)\n",
            "[2, 1, 1, 1, 1, 1, 2, 2, 1, 2, 2, 0, 2, 0, 0, 1, 1, 1, 2, 2, 0, 1, 2, 0, 1, 1, 1, 0, 2, 2, 0, 1, 0, 1, 1, 1, 1, 0, 0, 0, 0, 0, 0, 0, 0, 0, 1, 2, 1, 0, 2, 1, 0, 1, 2, 2, 1, 0, 0, 1, 1, 2, 1, 0, 0, 2, 1, 2, 1, 1, 0, 2, 1, 2, 1, 0, 2, 2, 1, 0, 1, 1, 2, 1, 1, 0, 2, 1, 1, 0, 2, 0, 0, 0, 0, 2, 2, 2, 2, 2, 0, 1, 1, 1, 0, 1, 1, 0, 2, 1, 2, 0, 2, 0, 2, 2, 1, 0, 2, 1, 2, 0, 2, 1, 2, 0, 0, 0, 2, 0, 2, 1, 0, 0, 2, 1, 1, 1, 0, 2, 2, 0, 1, 1, 2, 1, 1, 1, 2, 2, 1, 2, 1, 2, 0, 2, 1, 2, 1, 1, 2, 2, 1, 1, 2, 0, 2, 2, 2, 1, 1, 2, 2, 0, 1, 1, 2, 0, 0, 2, 1, 0, 0, 1, 1, 1, 2, 2, 1, 2, 0, 1, 2, 1, 1, 2, 0, 1, 1, 2, 1, 2, 2, 0, 0, 2, 2, 0, 0, 1, 1, 0, 0, 2, 0, 1, 2, 0, 2]\n",
            "[2, 1, 1, 1, 1, 1, 0, 2, 1, 2, 2, 0, 2, 0, 0, 1, 1, 1, 0, 2, 0, 1, 2, 0, 0, 1, 1, 0, 2, 2, 0, 2, 1, 1, 1, 1, 1, 0, 1, 0, 0, 0, 0, 0, 0, 0, 1, 2, 1, 0, 0, 1, 0, 1, 2, 2, 1, 1, 0, 1, 1, 1, 2, 0, 0, 2, 1, 2, 1, 1, 0, 2, 0, 2, 0, 0, 2, 2, 0, 0, 1, 1, 2, 1, 1, 0, 0, 1, 1, 0, 2, 0, 0, 0, 0, 2, 2, 2, 2, 2, 0, 1, 1, 0, 0, 1, 1, 0, 2, 1, 2, 0, 2, 0, 2, 2, 1, 2, 2, 1, 2, 0, 2, 1, 2, 0, 0, 2, 2, 0, 2, 1, 0, 0, 2, 1, 1, 1, 0, 2, 2, 0, 1, 0, 2, 1, 1, 1, 2, 2, 1, 2, 1, 2, 0, 2, 1, 2, 1, 1, 2, 2, 1, 1, 2, 0, 0, 2, 0, 1, 1, 2, 2, 0, 1, 1, 2, 0, 0, 2, 1, 0, 0, 0, 1, 0, 2, 2, 1, 2, 0, 1, 2, 1, 0, 2, 0, 1, 1, 2, 1, 2, 2, 0, 0, 2, 2, 0, 2, 1, 1, 0, 0, 2, 0, 1, 2, 0, 2]\n",
            "------\n"
          ]
        },
        {
          "output_type": "stream",
          "name": "stderr",
          "text": [
            "\n"
          ]
        }
      ]
    },
    {
      "cell_type": "code",
      "source": [
        "# important section\n",
        "\n",
        "\n",
        "import torch\n",
        "from torchvision import transforms\n",
        "from PIL import Image\n",
        "import matplotlib.pyplot as plt\n",
        "\n",
        "# Load the saved VGG16 model\n",
        "# model = torch.load('path/to/saved/model.pt')\n",
        "mean = [0.485, 0.456, 0.406]\n",
        "std = [0.229, 0.224, 0.225]\n",
        "# Define the preprocessing steps for the input image\n",
        "transform = transforms.Compose([\n",
        "    transforms.Resize((224,224)),\n",
        "    transforms.ToTensor(),\n",
        "    transforms.Normalize((0.485, 0.456, 0.406), (0.229, 0.224, 0.225))\n",
        "])\n",
        "\n",
        "# Use the following code to upload an image\n",
        "from google.colab import files\n",
        "uploaded = files.upload()\n",
        "\n",
        "# Loop through the uploaded images\n",
        "for fn in uploaded.keys():\n",
        "  # Load the image using PIL\n",
        "  img = Image.open(fn)\n",
        "  \n",
        "  # Apply the preprocessing steps defined above\n",
        "  img = transform(img)\n",
        "  img = img.unsqueeze(0)\n",
        "\n",
        "  # Make the prediction using the VGG16 model\n",
        "  with torch.no_grad():\n",
        "      outputs = resnet18(img.cuda())\n",
        "      _, predicted = torch.max(outputs, 1)\n",
        "      predict_proba = torch.nn.functional.softmax(outputs, dim=1)[0][predicted]\n",
        "  \n",
        "  # Print the predicted label and probability\n",
        "  if predicted.item() == 0:\n",
        "      predict_label = 'Paper'\n",
        "  elif predicted.item() == 1:\n",
        "      predict_label = 'Rock'\n",
        "  elif predicted.item() == 2:\n",
        "      predict_label = 'Scissor'\n",
        "  \n",
        "  print('\\n')\n",
        "  plt.imshow(Image.open(fn))\n",
        "  plt.show()\n",
        "  print(\"\\nImage prediction result: \", predict_label)\n",
        "  print(\"Probability: \", round(predict_proba.item()*100,2), \"%\")\n",
        "  print('\\n')\n"
      ],
      "metadata": {
        "colab": {
          "base_uri": "https://localhost:8080/",
          "height": 579
        },
        "id": "7k8tipCUNp0V",
        "outputId": "fe2c89d9-098f-4d18-c5f6-8063ebe6ba42"
      },
      "id": "7k8tipCUNp0V",
      "execution_count": 81,
      "outputs": [
        {
          "output_type": "display_data",
          "data": {
            "text/plain": [
              "<IPython.core.display.HTML object>"
            ],
            "text/html": [
              "\n",
              "     <input type=\"file\" id=\"files-b0ad06e7-693a-48bd-b073-9b5e8e750e32\" name=\"files[]\" multiple disabled\n",
              "        style=\"border:none\" />\n",
              "     <output id=\"result-b0ad06e7-693a-48bd-b073-9b5e8e750e32\">\n",
              "      Upload widget is only available when the cell has been executed in the\n",
              "      current browser session. Please rerun this cell to enable.\n",
              "      </output>\n",
              "      <script>// Copyright 2017 Google LLC\n",
              "//\n",
              "// Licensed under the Apache License, Version 2.0 (the \"License\");\n",
              "// you may not use this file except in compliance with the License.\n",
              "// You may obtain a copy of the License at\n",
              "//\n",
              "//      http://www.apache.org/licenses/LICENSE-2.0\n",
              "//\n",
              "// Unless required by applicable law or agreed to in writing, software\n",
              "// distributed under the License is distributed on an \"AS IS\" BASIS,\n",
              "// WITHOUT WARRANTIES OR CONDITIONS OF ANY KIND, either express or implied.\n",
              "// See the License for the specific language governing permissions and\n",
              "// limitations under the License.\n",
              "\n",
              "/**\n",
              " * @fileoverview Helpers for google.colab Python module.\n",
              " */\n",
              "(function(scope) {\n",
              "function span(text, styleAttributes = {}) {\n",
              "  const element = document.createElement('span');\n",
              "  element.textContent = text;\n",
              "  for (const key of Object.keys(styleAttributes)) {\n",
              "    element.style[key] = styleAttributes[key];\n",
              "  }\n",
              "  return element;\n",
              "}\n",
              "\n",
              "// Max number of bytes which will be uploaded at a time.\n",
              "const MAX_PAYLOAD_SIZE = 100 * 1024;\n",
              "\n",
              "function _uploadFiles(inputId, outputId) {\n",
              "  const steps = uploadFilesStep(inputId, outputId);\n",
              "  const outputElement = document.getElementById(outputId);\n",
              "  // Cache steps on the outputElement to make it available for the next call\n",
              "  // to uploadFilesContinue from Python.\n",
              "  outputElement.steps = steps;\n",
              "\n",
              "  return _uploadFilesContinue(outputId);\n",
              "}\n",
              "\n",
              "// This is roughly an async generator (not supported in the browser yet),\n",
              "// where there are multiple asynchronous steps and the Python side is going\n",
              "// to poll for completion of each step.\n",
              "// This uses a Promise to block the python side on completion of each step,\n",
              "// then passes the result of the previous step as the input to the next step.\n",
              "function _uploadFilesContinue(outputId) {\n",
              "  const outputElement = document.getElementById(outputId);\n",
              "  const steps = outputElement.steps;\n",
              "\n",
              "  const next = steps.next(outputElement.lastPromiseValue);\n",
              "  return Promise.resolve(next.value.promise).then((value) => {\n",
              "    // Cache the last promise value to make it available to the next\n",
              "    // step of the generator.\n",
              "    outputElement.lastPromiseValue = value;\n",
              "    return next.value.response;\n",
              "  });\n",
              "}\n",
              "\n",
              "/**\n",
              " * Generator function which is called between each async step of the upload\n",
              " * process.\n",
              " * @param {string} inputId Element ID of the input file picker element.\n",
              " * @param {string} outputId Element ID of the output display.\n",
              " * @return {!Iterable<!Object>} Iterable of next steps.\n",
              " */\n",
              "function* uploadFilesStep(inputId, outputId) {\n",
              "  const inputElement = document.getElementById(inputId);\n",
              "  inputElement.disabled = false;\n",
              "\n",
              "  const outputElement = document.getElementById(outputId);\n",
              "  outputElement.innerHTML = '';\n",
              "\n",
              "  const pickedPromise = new Promise((resolve) => {\n",
              "    inputElement.addEventListener('change', (e) => {\n",
              "      resolve(e.target.files);\n",
              "    });\n",
              "  });\n",
              "\n",
              "  const cancel = document.createElement('button');\n",
              "  inputElement.parentElement.appendChild(cancel);\n",
              "  cancel.textContent = 'Cancel upload';\n",
              "  const cancelPromise = new Promise((resolve) => {\n",
              "    cancel.onclick = () => {\n",
              "      resolve(null);\n",
              "    };\n",
              "  });\n",
              "\n",
              "  // Wait for the user to pick the files.\n",
              "  const files = yield {\n",
              "    promise: Promise.race([pickedPromise, cancelPromise]),\n",
              "    response: {\n",
              "      action: 'starting',\n",
              "    }\n",
              "  };\n",
              "\n",
              "  cancel.remove();\n",
              "\n",
              "  // Disable the input element since further picks are not allowed.\n",
              "  inputElement.disabled = true;\n",
              "\n",
              "  if (!files) {\n",
              "    return {\n",
              "      response: {\n",
              "        action: 'complete',\n",
              "      }\n",
              "    };\n",
              "  }\n",
              "\n",
              "  for (const file of files) {\n",
              "    const li = document.createElement('li');\n",
              "    li.append(span(file.name, {fontWeight: 'bold'}));\n",
              "    li.append(span(\n",
              "        `(${file.type || 'n/a'}) - ${file.size} bytes, ` +\n",
              "        `last modified: ${\n",
              "            file.lastModifiedDate ? file.lastModifiedDate.toLocaleDateString() :\n",
              "                                    'n/a'} - `));\n",
              "    const percent = span('0% done');\n",
              "    li.appendChild(percent);\n",
              "\n",
              "    outputElement.appendChild(li);\n",
              "\n",
              "    const fileDataPromise = new Promise((resolve) => {\n",
              "      const reader = new FileReader();\n",
              "      reader.onload = (e) => {\n",
              "        resolve(e.target.result);\n",
              "      };\n",
              "      reader.readAsArrayBuffer(file);\n",
              "    });\n",
              "    // Wait for the data to be ready.\n",
              "    let fileData = yield {\n",
              "      promise: fileDataPromise,\n",
              "      response: {\n",
              "        action: 'continue',\n",
              "      }\n",
              "    };\n",
              "\n",
              "    // Use a chunked sending to avoid message size limits. See b/62115660.\n",
              "    let position = 0;\n",
              "    do {\n",
              "      const length = Math.min(fileData.byteLength - position, MAX_PAYLOAD_SIZE);\n",
              "      const chunk = new Uint8Array(fileData, position, length);\n",
              "      position += length;\n",
              "\n",
              "      const base64 = btoa(String.fromCharCode.apply(null, chunk));\n",
              "      yield {\n",
              "        response: {\n",
              "          action: 'append',\n",
              "          file: file.name,\n",
              "          data: base64,\n",
              "        },\n",
              "      };\n",
              "\n",
              "      let percentDone = fileData.byteLength === 0 ?\n",
              "          100 :\n",
              "          Math.round((position / fileData.byteLength) * 100);\n",
              "      percent.textContent = `${percentDone}% done`;\n",
              "\n",
              "    } while (position < fileData.byteLength);\n",
              "  }\n",
              "\n",
              "  // All done.\n",
              "  yield {\n",
              "    response: {\n",
              "      action: 'complete',\n",
              "    }\n",
              "  };\n",
              "}\n",
              "\n",
              "scope.google = scope.google || {};\n",
              "scope.google.colab = scope.google.colab || {};\n",
              "scope.google.colab._files = {\n",
              "  _uploadFiles,\n",
              "  _uploadFilesContinue,\n",
              "};\n",
              "})(self);\n",
              "</script> "
            ]
          },
          "metadata": {}
        },
        {
          "output_type": "stream",
          "name": "stdout",
          "text": [
            "Saving istockphoto-525694513-612x612.jpg to istockphoto-525694513-612x612 (3).jpg\n",
            "\n",
            "\n"
          ]
        },
        {
          "output_type": "display_data",
          "data": {
            "text/plain": [
              "<Figure size 640x480 with 1 Axes>"
            ],
            "image/png": "[encoded data removed]"
          },
          "metadata": {}
        },
        {
          "output_type": "stream",
          "name": "stdout",
          "text": [
            "\n",
            "Image prediction result:  Scissor\n",
            "Probability:  66.98 %\n",
            "\n",
            "\n"
          ]
        }
      ]
    },
    {
      "cell_type": "code",
      "source": [],
      "metadata": {
        "id": "0oQX_P_iPJkj"
      },
      "id": "0oQX_P_iPJkj",
      "execution_count": null,
      "outputs": []
    }
  ],
  "metadata": {
    "colab": {
      "provenance": [],
      "gpuType": "T4"
    },
    "gpuClass": "standard",
    "kernelspec": {
      "display_name": "Python 3",
      "name": "python3"
    },
    "language_info": {
      "name": "python"
    },
    "accelerator": "GPU"
  },
  "nbformat": 4,
  "nbformat_minor": 5
}